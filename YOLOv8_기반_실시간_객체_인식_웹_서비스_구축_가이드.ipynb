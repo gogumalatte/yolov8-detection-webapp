{
  "nbformat": 4,
  "nbformat_minor": 0,
  "metadata": {
    "colab": {
      "provenance": [],
      "gpuType": "T4",
      "authorship_tag": "ABX9TyOsJ35Q97/4YsfV34tD33So",
      "include_colab_link": true
    },
    "kernelspec": {
      "name": "python3",
      "display_name": "Python 3"
    },
    "language_info": {
      "name": "python"
    },
    "accelerator": "GPU"
  },
  "cells": [
    {
      "cell_type": "markdown",
      "metadata": {
        "id": "view-in-github",
        "colab_type": "text"
      },
      "source": [
        "<a href=\"https://colab.research.google.com/github/gogumalatte/yolov8-detection-webapp/blob/main/YOLOv8_%EA%B8%B0%EB%B0%98_%EC%8B%A4%EC%8B%9C%EA%B0%84_%EA%B0%9D%EC%B2%B4_%EC%9D%B8%EC%8B%9D_%EC%9B%B9_%EC%84%9C%EB%B9%84%EC%8A%A4_%EA%B5%AC%EC%B6%95_%EA%B0%80%EC%9D%B4%EB%93%9C.ipynb\" target=\"_parent\"><img src=\"https://colab.research.google.com/assets/colab-badge.svg\" alt=\"Open In Colab\"/></a>"
      ]
    },
    {
      "cell_type": "markdown",
      "source": [
        "# 1. 객체 인식을 위한 YOLOv8 (Ultralytics)와, 실시간 웹 앱 구성을 위한 Flask/Socket 관련 패키지를 설치합니다."
      ],
      "metadata": {
        "id": "NsTip_mUcWcT"
      }
    },
    {
      "cell_type": "code",
      "execution_count": 9,
      "metadata": {
        "id": "n0zdN4LMm9tC",
        "colab": {
          "base_uri": "https://localhost:8080/"
        },
        "collapsed": true,
        "outputId": "e220d4aa-8d8e-4c74-8323-c1c335ad9adc"
      },
      "outputs": [
        {
          "output_type": "stream",
          "name": "stdout",
          "text": [
            "Requirement already satisfied: flask in /usr/local/lib/python3.11/dist-packages (3.1.1)\n",
            "Requirement already satisfied: flask-cors in /usr/local/lib/python3.11/dist-packages (6.0.0)\n",
            "Requirement already satisfied: ultralytics in /usr/local/lib/python3.11/dist-packages (8.3.139)\n",
            "Requirement already satisfied: pyngrok in /usr/local/lib/python3.11/dist-packages (7.2.8)\n",
            "Requirement already satisfied: blinker>=1.9.0 in /usr/local/lib/python3.11/dist-packages (from flask) (1.9.0)\n",
            "Requirement already satisfied: click>=8.1.3 in /usr/local/lib/python3.11/dist-packages (from flask) (8.2.0)\n",
            "Requirement already satisfied: itsdangerous>=2.2.0 in /usr/local/lib/python3.11/dist-packages (from flask) (2.2.0)\n",
            "Requirement already satisfied: jinja2>=3.1.2 in /usr/local/lib/python3.11/dist-packages (from flask) (3.1.6)\n",
            "Requirement already satisfied: markupsafe>=2.1.1 in /usr/local/lib/python3.11/dist-packages (from flask) (3.0.2)\n",
            "Requirement already satisfied: werkzeug>=3.1.0 in /usr/local/lib/python3.11/dist-packages (from flask) (3.1.3)\n",
            "Requirement already satisfied: numpy>=1.23.0 in /usr/local/lib/python3.11/dist-packages (from ultralytics) (2.0.2)\n",
            "Requirement already satisfied: matplotlib>=3.3.0 in /usr/local/lib/python3.11/dist-packages (from ultralytics) (3.10.0)\n",
            "Requirement already satisfied: opencv-python>=4.6.0 in /usr/local/lib/python3.11/dist-packages (from ultralytics) (4.11.0.86)\n",
            "Requirement already satisfied: pillow>=7.1.2 in /usr/local/lib/python3.11/dist-packages (from ultralytics) (11.2.1)\n",
            "Requirement already satisfied: pyyaml>=5.3.1 in /usr/local/lib/python3.11/dist-packages (from ultralytics) (6.0.2)\n",
            "Requirement already satisfied: requests>=2.23.0 in /usr/local/lib/python3.11/dist-packages (from ultralytics) (2.32.3)\n",
            "Requirement already satisfied: scipy>=1.4.1 in /usr/local/lib/python3.11/dist-packages (from ultralytics) (1.15.3)\n",
            "Requirement already satisfied: torch>=1.8.0 in /usr/local/lib/python3.11/dist-packages (from ultralytics) (2.6.0+cu124)\n",
            "Requirement already satisfied: torchvision>=0.9.0 in /usr/local/lib/python3.11/dist-packages (from ultralytics) (0.21.0+cu124)\n",
            "Requirement already satisfied: tqdm>=4.64.0 in /usr/local/lib/python3.11/dist-packages (from ultralytics) (4.67.1)\n",
            "Requirement already satisfied: psutil in /usr/local/lib/python3.11/dist-packages (from ultralytics) (5.9.5)\n",
            "Requirement already satisfied: py-cpuinfo in /usr/local/lib/python3.11/dist-packages (from ultralytics) (9.0.0)\n",
            "Requirement already satisfied: pandas>=1.1.4 in /usr/local/lib/python3.11/dist-packages (from ultralytics) (2.2.2)\n",
            "Requirement already satisfied: ultralytics-thop>=2.0.0 in /usr/local/lib/python3.11/dist-packages (from ultralytics) (2.0.14)\n",
            "Requirement already satisfied: contourpy>=1.0.1 in /usr/local/lib/python3.11/dist-packages (from matplotlib>=3.3.0->ultralytics) (1.3.2)\n",
            "Requirement already satisfied: cycler>=0.10 in /usr/local/lib/python3.11/dist-packages (from matplotlib>=3.3.0->ultralytics) (0.12.1)\n",
            "Requirement already satisfied: fonttools>=4.22.0 in /usr/local/lib/python3.11/dist-packages (from matplotlib>=3.3.0->ultralytics) (4.58.0)\n",
            "Requirement already satisfied: kiwisolver>=1.3.1 in /usr/local/lib/python3.11/dist-packages (from matplotlib>=3.3.0->ultralytics) (1.4.8)\n",
            "Requirement already satisfied: packaging>=20.0 in /usr/local/lib/python3.11/dist-packages (from matplotlib>=3.3.0->ultralytics) (24.2)\n",
            "Requirement already satisfied: pyparsing>=2.3.1 in /usr/local/lib/python3.11/dist-packages (from matplotlib>=3.3.0->ultralytics) (3.2.3)\n",
            "Requirement already satisfied: python-dateutil>=2.7 in /usr/local/lib/python3.11/dist-packages (from matplotlib>=3.3.0->ultralytics) (2.9.0.post0)\n",
            "Requirement already satisfied: pytz>=2020.1 in /usr/local/lib/python3.11/dist-packages (from pandas>=1.1.4->ultralytics) (2025.2)\n",
            "Requirement already satisfied: tzdata>=2022.7 in /usr/local/lib/python3.11/dist-packages (from pandas>=1.1.4->ultralytics) (2025.2)\n",
            "Requirement already satisfied: charset-normalizer<4,>=2 in /usr/local/lib/python3.11/dist-packages (from requests>=2.23.0->ultralytics) (3.4.2)\n",
            "Requirement already satisfied: idna<4,>=2.5 in /usr/local/lib/python3.11/dist-packages (from requests>=2.23.0->ultralytics) (3.10)\n",
            "Requirement already satisfied: urllib3<3,>=1.21.1 in /usr/local/lib/python3.11/dist-packages (from requests>=2.23.0->ultralytics) (2.4.0)\n",
            "Requirement already satisfied: certifi>=2017.4.17 in /usr/local/lib/python3.11/dist-packages (from requests>=2.23.0->ultralytics) (2025.4.26)\n",
            "Requirement already satisfied: filelock in /usr/local/lib/python3.11/dist-packages (from torch>=1.8.0->ultralytics) (3.18.0)\n",
            "Requirement already satisfied: typing-extensions>=4.10.0 in /usr/local/lib/python3.11/dist-packages (from torch>=1.8.0->ultralytics) (4.13.2)\n",
            "Requirement already satisfied: networkx in /usr/local/lib/python3.11/dist-packages (from torch>=1.8.0->ultralytics) (3.4.2)\n",
            "Requirement already satisfied: fsspec in /usr/local/lib/python3.11/dist-packages (from torch>=1.8.0->ultralytics) (2025.3.2)\n",
            "Requirement already satisfied: nvidia-cuda-nvrtc-cu12==12.4.127 in /usr/local/lib/python3.11/dist-packages (from torch>=1.8.0->ultralytics) (12.4.127)\n",
            "Requirement already satisfied: nvidia-cuda-runtime-cu12==12.4.127 in /usr/local/lib/python3.11/dist-packages (from torch>=1.8.0->ultralytics) (12.4.127)\n",
            "Requirement already satisfied: nvidia-cuda-cupti-cu12==12.4.127 in /usr/local/lib/python3.11/dist-packages (from torch>=1.8.0->ultralytics) (12.4.127)\n",
            "Requirement already satisfied: nvidia-cudnn-cu12==9.1.0.70 in /usr/local/lib/python3.11/dist-packages (from torch>=1.8.0->ultralytics) (9.1.0.70)\n",
            "Requirement already satisfied: nvidia-cublas-cu12==12.4.5.8 in /usr/local/lib/python3.11/dist-packages (from torch>=1.8.0->ultralytics) (12.4.5.8)\n",
            "Requirement already satisfied: nvidia-cufft-cu12==11.2.1.3 in /usr/local/lib/python3.11/dist-packages (from torch>=1.8.0->ultralytics) (11.2.1.3)\n",
            "Requirement already satisfied: nvidia-curand-cu12==10.3.5.147 in /usr/local/lib/python3.11/dist-packages (from torch>=1.8.0->ultralytics) (10.3.5.147)\n",
            "Requirement already satisfied: nvidia-cusolver-cu12==11.6.1.9 in /usr/local/lib/python3.11/dist-packages (from torch>=1.8.0->ultralytics) (11.6.1.9)\n",
            "Requirement already satisfied: nvidia-cusparse-cu12==12.3.1.170 in /usr/local/lib/python3.11/dist-packages (from torch>=1.8.0->ultralytics) (12.3.1.170)\n",
            "Requirement already satisfied: nvidia-cusparselt-cu12==0.6.2 in /usr/local/lib/python3.11/dist-packages (from torch>=1.8.0->ultralytics) (0.6.2)\n",
            "Requirement already satisfied: nvidia-nccl-cu12==2.21.5 in /usr/local/lib/python3.11/dist-packages (from torch>=1.8.0->ultralytics) (2.21.5)\n",
            "Requirement already satisfied: nvidia-nvtx-cu12==12.4.127 in /usr/local/lib/python3.11/dist-packages (from torch>=1.8.0->ultralytics) (12.4.127)\n",
            "Requirement already satisfied: nvidia-nvjitlink-cu12==12.4.127 in /usr/local/lib/python3.11/dist-packages (from torch>=1.8.0->ultralytics) (12.4.127)\n",
            "Requirement already satisfied: triton==3.2.0 in /usr/local/lib/python3.11/dist-packages (from torch>=1.8.0->ultralytics) (3.2.0)\n",
            "Requirement already satisfied: sympy==1.13.1 in /usr/local/lib/python3.11/dist-packages (from torch>=1.8.0->ultralytics) (1.13.1)\n",
            "Requirement already satisfied: mpmath<1.4,>=1.1.0 in /usr/local/lib/python3.11/dist-packages (from sympy==1.13.1->torch>=1.8.0->ultralytics) (1.3.0)\n",
            "Requirement already satisfied: six>=1.5 in /usr/local/lib/python3.11/dist-packages (from python-dateutil>=2.7->matplotlib>=3.3.0->ultralytics) (1.17.0)\n",
            "Requirement already satisfied: watchdog in /usr/local/lib/python3.11/dist-packages (6.0.0)\n",
            "Requirement already satisfied: ultralytics in /usr/local/lib/python3.11/dist-packages (8.3.139)\n",
            "Requirement already satisfied: numpy>=1.23.0 in /usr/local/lib/python3.11/dist-packages (from ultralytics) (2.0.2)\n",
            "Requirement already satisfied: matplotlib>=3.3.0 in /usr/local/lib/python3.11/dist-packages (from ultralytics) (3.10.0)\n",
            "Requirement already satisfied: opencv-python>=4.6.0 in /usr/local/lib/python3.11/dist-packages (from ultralytics) (4.11.0.86)\n",
            "Requirement already satisfied: pillow>=7.1.2 in /usr/local/lib/python3.11/dist-packages (from ultralytics) (11.2.1)\n",
            "Requirement already satisfied: pyyaml>=5.3.1 in /usr/local/lib/python3.11/dist-packages (from ultralytics) (6.0.2)\n",
            "Requirement already satisfied: requests>=2.23.0 in /usr/local/lib/python3.11/dist-packages (from ultralytics) (2.32.3)\n",
            "Requirement already satisfied: scipy>=1.4.1 in /usr/local/lib/python3.11/dist-packages (from ultralytics) (1.15.3)\n",
            "Requirement already satisfied: torch>=1.8.0 in /usr/local/lib/python3.11/dist-packages (from ultralytics) (2.6.0+cu124)\n",
            "Requirement already satisfied: torchvision>=0.9.0 in /usr/local/lib/python3.11/dist-packages (from ultralytics) (0.21.0+cu124)\n",
            "Requirement already satisfied: tqdm>=4.64.0 in /usr/local/lib/python3.11/dist-packages (from ultralytics) (4.67.1)\n",
            "Requirement already satisfied: psutil in /usr/local/lib/python3.11/dist-packages (from ultralytics) (5.9.5)\n",
            "Requirement already satisfied: py-cpuinfo in /usr/local/lib/python3.11/dist-packages (from ultralytics) (9.0.0)\n",
            "Requirement already satisfied: pandas>=1.1.4 in /usr/local/lib/python3.11/dist-packages (from ultralytics) (2.2.2)\n",
            "Requirement already satisfied: ultralytics-thop>=2.0.0 in /usr/local/lib/python3.11/dist-packages (from ultralytics) (2.0.14)\n",
            "Requirement already satisfied: contourpy>=1.0.1 in /usr/local/lib/python3.11/dist-packages (from matplotlib>=3.3.0->ultralytics) (1.3.2)\n",
            "Requirement already satisfied: cycler>=0.10 in /usr/local/lib/python3.11/dist-packages (from matplotlib>=3.3.0->ultralytics) (0.12.1)\n",
            "Requirement already satisfied: fonttools>=4.22.0 in /usr/local/lib/python3.11/dist-packages (from matplotlib>=3.3.0->ultralytics) (4.58.0)\n",
            "Requirement already satisfied: kiwisolver>=1.3.1 in /usr/local/lib/python3.11/dist-packages (from matplotlib>=3.3.0->ultralytics) (1.4.8)\n",
            "Requirement already satisfied: packaging>=20.0 in /usr/local/lib/python3.11/dist-packages (from matplotlib>=3.3.0->ultralytics) (24.2)\n",
            "Requirement already satisfied: pyparsing>=2.3.1 in /usr/local/lib/python3.11/dist-packages (from matplotlib>=3.3.0->ultralytics) (3.2.3)\n",
            "Requirement already satisfied: python-dateutil>=2.7 in /usr/local/lib/python3.11/dist-packages (from matplotlib>=3.3.0->ultralytics) (2.9.0.post0)\n",
            "Requirement already satisfied: pytz>=2020.1 in /usr/local/lib/python3.11/dist-packages (from pandas>=1.1.4->ultralytics) (2025.2)\n",
            "Requirement already satisfied: tzdata>=2022.7 in /usr/local/lib/python3.11/dist-packages (from pandas>=1.1.4->ultralytics) (2025.2)\n",
            "Requirement already satisfied: charset-normalizer<4,>=2 in /usr/local/lib/python3.11/dist-packages (from requests>=2.23.0->ultralytics) (3.4.2)\n",
            "Requirement already satisfied: idna<4,>=2.5 in /usr/local/lib/python3.11/dist-packages (from requests>=2.23.0->ultralytics) (3.10)\n",
            "Requirement already satisfied: urllib3<3,>=1.21.1 in /usr/local/lib/python3.11/dist-packages (from requests>=2.23.0->ultralytics) (2.4.0)\n",
            "Requirement already satisfied: certifi>=2017.4.17 in /usr/local/lib/python3.11/dist-packages (from requests>=2.23.0->ultralytics) (2025.4.26)\n",
            "Requirement already satisfied: filelock in /usr/local/lib/python3.11/dist-packages (from torch>=1.8.0->ultralytics) (3.18.0)\n",
            "Requirement already satisfied: typing-extensions>=4.10.0 in /usr/local/lib/python3.11/dist-packages (from torch>=1.8.0->ultralytics) (4.13.2)\n",
            "Requirement already satisfied: networkx in /usr/local/lib/python3.11/dist-packages (from torch>=1.8.0->ultralytics) (3.4.2)\n",
            "Requirement already satisfied: jinja2 in /usr/local/lib/python3.11/dist-packages (from torch>=1.8.0->ultralytics) (3.1.6)\n",
            "Requirement already satisfied: fsspec in /usr/local/lib/python3.11/dist-packages (from torch>=1.8.0->ultralytics) (2025.3.2)\n",
            "Requirement already satisfied: nvidia-cuda-nvrtc-cu12==12.4.127 in /usr/local/lib/python3.11/dist-packages (from torch>=1.8.0->ultralytics) (12.4.127)\n",
            "Requirement already satisfied: nvidia-cuda-runtime-cu12==12.4.127 in /usr/local/lib/python3.11/dist-packages (from torch>=1.8.0->ultralytics) (12.4.127)\n",
            "Requirement already satisfied: nvidia-cuda-cupti-cu12==12.4.127 in /usr/local/lib/python3.11/dist-packages (from torch>=1.8.0->ultralytics) (12.4.127)\n",
            "Requirement already satisfied: nvidia-cudnn-cu12==9.1.0.70 in /usr/local/lib/python3.11/dist-packages (from torch>=1.8.0->ultralytics) (9.1.0.70)\n",
            "Requirement already satisfied: nvidia-cublas-cu12==12.4.5.8 in /usr/local/lib/python3.11/dist-packages (from torch>=1.8.0->ultralytics) (12.4.5.8)\n",
            "Requirement already satisfied: nvidia-cufft-cu12==11.2.1.3 in /usr/local/lib/python3.11/dist-packages (from torch>=1.8.0->ultralytics) (11.2.1.3)\n",
            "Requirement already satisfied: nvidia-curand-cu12==10.3.5.147 in /usr/local/lib/python3.11/dist-packages (from torch>=1.8.0->ultralytics) (10.3.5.147)\n",
            "Requirement already satisfied: nvidia-cusolver-cu12==11.6.1.9 in /usr/local/lib/python3.11/dist-packages (from torch>=1.8.0->ultralytics) (11.6.1.9)\n",
            "Requirement already satisfied: nvidia-cusparse-cu12==12.3.1.170 in /usr/local/lib/python3.11/dist-packages (from torch>=1.8.0->ultralytics) (12.3.1.170)\n",
            "Requirement already satisfied: nvidia-cusparselt-cu12==0.6.2 in /usr/local/lib/python3.11/dist-packages (from torch>=1.8.0->ultralytics) (0.6.2)\n",
            "Requirement already satisfied: nvidia-nccl-cu12==2.21.5 in /usr/local/lib/python3.11/dist-packages (from torch>=1.8.0->ultralytics) (2.21.5)\n",
            "Requirement already satisfied: nvidia-nvtx-cu12==12.4.127 in /usr/local/lib/python3.11/dist-packages (from torch>=1.8.0->ultralytics) (12.4.127)\n",
            "Requirement already satisfied: nvidia-nvjitlink-cu12==12.4.127 in /usr/local/lib/python3.11/dist-packages (from torch>=1.8.0->ultralytics) (12.4.127)\n",
            "Requirement already satisfied: triton==3.2.0 in /usr/local/lib/python3.11/dist-packages (from torch>=1.8.0->ultralytics) (3.2.0)\n",
            "Requirement already satisfied: sympy==1.13.1 in /usr/local/lib/python3.11/dist-packages (from torch>=1.8.0->ultralytics) (1.13.1)\n",
            "Requirement already satisfied: mpmath<1.4,>=1.1.0 in /usr/local/lib/python3.11/dist-packages (from sympy==1.13.1->torch>=1.8.0->ultralytics) (1.3.0)\n",
            "Requirement already satisfied: six>=1.5 in /usr/local/lib/python3.11/dist-packages (from python-dateutil>=2.7->matplotlib>=3.3.0->ultralytics) (1.17.0)\n",
            "Requirement already satisfied: MarkupSafe>=2.0 in /usr/local/lib/python3.11/dist-packages (from jinja2->torch>=1.8.0->ultralytics) (3.0.2)\n"
          ]
        }
      ],
      "source": [
        "# 필수 라이브러리 설치\n",
        "!pip install flask flask-cors ultralytics pyngrok\n",
        "!pip install watchdog  # 파일 변경 감지용\n",
        "!pip install ultralytics # YOLOv8 설치\n",
        "from ultralytics import YOLO\n",
        "model = YOLO('yolov8n.pt')  # 작은 모델 사용"
      ]
    },
    {
      "cell_type": "markdown",
      "source": [
        "# 2. Ngrok을 통해 로컬 서버를 외부에서 접근할 수 있도록 인증 토큰을 설정합니다."
      ],
      "metadata": {
        "id": "Oyj-X70Fcftx"
      }
    },
    {
      "cell_type": "code",
      "source": [
        "!ngrok authtoken 2wQfPVBCGGvd0mYA96vUepa8w7g_4TsNZesSbc6nvXmV38T3T"
      ],
      "metadata": {
        "colab": {
          "base_uri": "https://localhost:8080/"
        },
        "id": "i4magZVFyIF7",
        "outputId": "0c59f10d-40a7-4b97-c6b0-8dfb221a0552"
      },
      "execution_count": 10,
      "outputs": [
        {
          "output_type": "stream",
          "name": "stdout",
          "text": [
            "Authtoken saved to configuration file: /root/.config/ngrok/ngrok.yml\n"
          ]
        }
      ]
    },
    {
      "cell_type": "markdown",
      "source": [
        "# 3. Ngrok이 정상적으로 설치되었는지 버전을 확인합니다."
      ],
      "metadata": {
        "id": "89_KajfFcj81"
      }
    },
    {
      "cell_type": "code",
      "source": [
        "!ngrok --version"
      ],
      "metadata": {
        "colab": {
          "base_uri": "https://localhost:8080/"
        },
        "id": "mtmx-gh9yN6o",
        "outputId": "8a5f4766-f989-4a0a-ad1d-f92683e3f839"
      },
      "execution_count": 11,
      "outputs": [
        {
          "output_type": "stream",
          "name": "stdout",
          "text": [
            "ngrok version 3.22.1\n",
            "pyngrok version 7.2.8\n"
          ]
        }
      ]
    },
    {
      "cell_type": "markdown",
      "source": [
        "# 4. React 프론트엔드 정적 파일을 저장할 www/js 디렉토리를 생성합니다."
      ],
      "metadata": {
        "id": "IOfNOW8ydHGa"
      }
    },
    {
      "cell_type": "code",
      "source": [
        "# 필요한 디렉토리 생성\n",
        "!mkdir -p www/js"
      ],
      "metadata": {
        "id": "GgPsezZMzNmp"
      },
      "execution_count": 12,
      "outputs": []
    },
    {
      "cell_type": "markdown",
      "source": [
        "# 5. 클라이언트와 서버 간의 실시간 비디오 전송 및 결과 공유를 위한 기본 서버 구성을 위한 백엔드 코드를 작성합니다."
      ],
      "metadata": {
        "id": "wsEqC-FDd6Bf"
      }
    },
    {
      "cell_type": "code",
      "source": [
        "%%writefile app.py\n",
        "from flask import Flask, request, jsonify, render_template\n",
        "from flask_cors import CORS\n",
        "import os\n",
        "import time\n",
        "import base64\n",
        "import numpy as np\n",
        "import cv2\n",
        "from ultralytics import YOLO\n",
        "import json\n",
        "\n",
        "# Flask 앱 초기화\n",
        "app = Flask(__name__, template_folder='./www', static_folder='./www', static_url_path='/')\n",
        "CORS(app)  # CORS 설정 추가\n",
        "\n",
        "# YOLOv8 모델 로드\n",
        "model = YOLO('yolov8n.pt')\n",
        "\n",
        "# 임시 이미지 저장 경로\n",
        "UPLOAD_FOLDER = './uploads'\n",
        "if not os.path.exists(UPLOAD_FOLDER):\n",
        "    os.makedirs(UPLOAD_FOLDER)\n",
        "\n",
        "@app.route('/')\n",
        "def index():\n",
        "    return render_template('index.html')\n",
        "\n",
        "@app.route('/api/detect', methods=['POST'])\n",
        "def detect_objects():\n",
        "    if 'image' not in request.json:\n",
        "        return jsonify({'error': 'No image data provided'}), 400\n",
        "\n",
        "    try:\n",
        "        # 이미지 데이터 파싱\n",
        "        img_data = request.json['image']\n",
        "        # Base64 데이터에서 헤더 제거\n",
        "        if ',' in img_data:\n",
        "            img_data = img_data.split(',')[1]\n",
        "\n",
        "        # Base64 디코딩\n",
        "        img_bytes = base64.b64decode(img_data)\n",
        "        nparr = np.frombuffer(img_bytes, np.uint8)\n",
        "        image = cv2.imdecode(nparr, cv2.IMREAD_COLOR)\n",
        "\n",
        "        # 이미지 저장 (디버깅용)\n",
        "        timestamp = int(time.time())\n",
        "        img_path = f\"{UPLOAD_FOLDER}/image_{timestamp}.jpg\"\n",
        "        cv2.imwrite(img_path, image)\n",
        "\n",
        "        # YOLOv8로 객체 감지\n",
        "        results = model(image)\n",
        "\n",
        "        # 결과 처리\n",
        "        detections = []\n",
        "        for r in results:\n",
        "            boxes = r.boxes\n",
        "            for box in boxes:\n",
        "                x1, y1, x2, y2 = box.xyxy[0].tolist()\n",
        "                conf = float(box.conf[0])\n",
        "                cls = int(box.cls[0])\n",
        "                name = model.names[cls]\n",
        "\n",
        "                detections.append({\n",
        "                    'bbox': [x1, y1, x2, y2],\n",
        "                    'confidence': conf,\n",
        "                    'class': cls,\n",
        "                    'name': name\n",
        "                })\n",
        "\n",
        "        return jsonify({\n",
        "            'success': True,\n",
        "            'detections': detections\n",
        "        })\n",
        "\n",
        "    except Exception as e:\n",
        "        return jsonify({'error': str(e)}), 500\n",
        "\n",
        "if __name__ == '__main__':\n",
        "    app.run(host='0.0.0.0', port=3000, debug=True)"
      ],
      "metadata": {
        "colab": {
          "base_uri": "https://localhost:8080/"
        },
        "id": "HbfvWZCCySzK",
        "outputId": "bed5dfa6-18c2-43d7-a3d5-f84cda23f5d4"
      },
      "execution_count": 13,
      "outputs": [
        {
          "output_type": "stream",
          "name": "stdout",
          "text": [
            "Overwriting app.py\n"
          ]
        }
      ]
    },
    {
      "cell_type": "markdown",
      "source": [
        "# 6. 사용자와 상호 작용을 할 프론트엔드 코드를 작성합니다.\n",
        "## HTML + JavaScript + React"
      ],
      "metadata": {
        "id": "UdfsSOxceDAK"
      }
    },
    {
      "cell_type": "code",
      "source": [
        "%%writefile www/index.html\n",
        "<!DOCTYPE html>\n",
        "<html lang=\"ko\">\n",
        "<head>\n",
        "    <meta charset=\"UTF-8\">\n",
        "    <meta name=\"viewport\" content=\"width=device-width, initial-scale=1.0\">\n",
        "    <title>YOLOv8 객체 인식</title>\n",
        "    <link rel=\"stylesheet\" href=\"https://cdnjs.cloudflare.com/ajax/libs/bootstrap/5.2.3/css/bootstrap.min.css\">\n",
        "    <style>\n",
        "        body {\n",
        "            font-family: Arial, sans-serif;\n",
        "            padding: 20px;\n",
        "            max-width: 600px;\n",
        "            margin: 0 auto;\n",
        "        }\n",
        "        .camera-container {\n",
        "            position: relative;\n",
        "            width: 100%;\n",
        "            max-width: 500px;\n",
        "            margin: 0 auto;\n",
        "        }\n",
        "        #videoElement {\n",
        "            width: 100%;\n",
        "            background-color: #666;\n",
        "        }\n",
        "        #canvasElement {\n",
        "            position: absolute;\n",
        "            top: 0;\n",
        "            left: 0;\n",
        "            width: 100%;\n",
        "            height: 100%;\n",
        "        }\n",
        "        .controls {\n",
        "            margin: 20px 0;\n",
        "            display: flex;\n",
        "            justify-content: space-between;\n",
        "        }\n",
        "        .detection-list {\n",
        "            margin-top: 20px;\n",
        "            padding: 10px;\n",
        "            background-color: #f8f9fa;\n",
        "            border-radius: 5px;\n",
        "            max-height: 200px;\n",
        "            overflow-y: auto;\n",
        "        }\n",
        "        .detection-item {\n",
        "            display: flex;\n",
        "            justify-content: space-between;\n",
        "            padding: 5px 0;\n",
        "            border-bottom: 1px solid #dee2e6;\n",
        "        }\n",
        "        .spinner-border {\n",
        "            display: none;\n",
        "        }\n",
        "    </style>\n",
        "</head>\n",
        "<body>\n",
        "    <div id=\"app\"></div>\n",
        "    <script src=\"https://cdnjs.cloudflare.com/ajax/libs/react/18.2.0/umd/react.production.min.js\"></script>\n",
        "    <script src=\"https://cdnjs.cloudflare.com/ajax/libs/react-dom/18.2.0/umd/react-dom.production.min.js\"></script>\n",
        "    <script src=\"https://cdnjs.cloudflare.com/ajax/libs/babel-standalone/7.21.2/babel.min.js\"></script>\n",
        "    <script type=\"text/babel\" src=\"js/app.js\"></script>\n",
        "</body>\n",
        "</html>"
      ],
      "metadata": {
        "colab": {
          "base_uri": "https://localhost:8080/"
        },
        "id": "rqHYTIe1zQD_",
        "outputId": "ec7e08a1-b2cb-4692-bf53-d60ce20b909d"
      },
      "execution_count": 14,
      "outputs": [
        {
          "output_type": "stream",
          "name": "stdout",
          "text": [
            "Overwriting www/index.html\n"
          ]
        }
      ]
    },
    {
      "cell_type": "code",
      "source": [
        "%%writefile www/js/app.js\n",
        "const { useState, useEffect, useRef } = React;\n",
        "\n",
        "const App = () => {\n",
        "    const [cameraMode, setCameraMode] = useState('environment'); // 'environment' (후면) 또는 'user' (전면)\n",
        "    const [detections, setDetections] = useState([]);\n",
        "    const [isProcessing, setIsProcessing] = useState(false);\n",
        "    const [errorMessage, setErrorMessage] = useState('');\n",
        "    const videoRef = useRef(null);\n",
        "    const canvasRef = useRef(null);\n",
        "    const streamRef = useRef(null);\n",
        "    const timerRef = useRef(null);\n",
        "\n",
        "    useEffect(() => {\n",
        "        startCamera();\n",
        "        return () => {\n",
        "            stopCamera();\n",
        "            if (timerRef.current) {\n",
        "                clearInterval(timerRef.current);\n",
        "            }\n",
        "        };\n",
        "    }, [cameraMode]);\n",
        "\n",
        "    const startCamera = async () => {\n",
        "        try {\n",
        "            if (streamRef.current) {\n",
        "                stopCamera();\n",
        "            }\n",
        "\n",
        "            const constraints = {\n",
        "                video: {\n",
        "                    facingMode: cameraMode\n",
        "                }\n",
        "            };\n",
        "\n",
        "            const stream = await navigator.mediaDevices.getUserMedia(constraints);\n",
        "            streamRef.current = stream;\n",
        "\n",
        "            if (videoRef.current) {\n",
        "                videoRef.current.srcObject = stream;\n",
        "                videoRef.current.play();\n",
        "\n",
        "                // 비디오 크기에 맞게 캔버스 설정\n",
        "                videoRef.current.onloadedmetadata = () => {\n",
        "                    if (canvasRef.current) {\n",
        "                        canvasRef.current.width = videoRef.current.videoWidth;\n",
        "                        canvasRef.current.height = videoRef.current.videoHeight;\n",
        "                    }\n",
        "\n",
        "                    // 주기적으로 객체 감지 실행\n",
        "                    timerRef.current = setInterval(() => {\n",
        "                        if (!isProcessing) {\n",
        "                            detectObjects();\n",
        "                        }\n",
        "                    }, 10000); // 10초마다\n",
        "                };\n",
        "            }\n",
        "        } catch (err) {\n",
        "            setErrorMessage(`카메라 접근 오류: ${err.message}`);\n",
        "            console.error('카메라 접근 오류:', err);\n",
        "        }\n",
        "    };\n",
        "\n",
        "    const stopCamera = () => {\n",
        "        if (streamRef.current) {\n",
        "            streamRef.current.getTracks().forEach(track => track.stop());\n",
        "            streamRef.current = null;\n",
        "        }\n",
        "    };\n",
        "\n",
        "    const switchCamera = () => {\n",
        "        setCameraMode(prev => prev === 'environment' ? 'user' : 'environment');\n",
        "    };\n",
        "\n",
        "    const captureImage = () => {\n",
        "        if (!videoRef.current || !canvasRef.current) return null;\n",
        "\n",
        "        const canvas = document.createElement('canvas');\n",
        "        canvas.width = videoRef.current.videoWidth;\n",
        "        canvas.height = videoRef.current.videoHeight;\n",
        "\n",
        "        const ctx = canvas.getContext('2d');\n",
        "        ctx.drawImage(videoRef.current, 0, 0, canvas.width, canvas.height);\n",
        "\n",
        "        return canvas.toDataURL('image/jpeg');\n",
        "    };\n",
        "\n",
        "    const detectObjects = async () => {\n",
        "        if (!videoRef.current || !canvasRef.current) return;\n",
        "\n",
        "        try {\n",
        "            setIsProcessing(true);\n",
        "            const imageData = captureImage();\n",
        "\n",
        "            if (!imageData) {\n",
        "                console.error('이미지 캡처 실패');\n",
        "                return;\n",
        "            }\n",
        "\n",
        "            const response = await fetch('/api/detect', {\n",
        "                method: 'POST',\n",
        "                headers: {\n",
        "                    'Content-Type': 'application/json',\n",
        "                },\n",
        "                body: JSON.stringify({ image: imageData }),\n",
        "            });\n",
        "\n",
        "            const result = await response.json();\n",
        "\n",
        "            if (result.success) {\n",
        "                console.log('감지 결과:', result.detections);\n",
        "                setDetections(result.detections);\n",
        "                drawDetections(result.detections);\n",
        "            } else {\n",
        "                console.error('객체 감지 오류:', result.error);\n",
        "                setErrorMessage(`객체 감지 오류: ${result.error}`);\n",
        "            }\n",
        "        } catch (err) {\n",
        "            console.error('API 요청 오류:', err);\n",
        "            setErrorMessage(`API 요청 오류: ${err.message}`);\n",
        "        } finally {\n",
        "            setIsProcessing(false);\n",
        "        }\n",
        "    };\n",
        "\n",
        "    const drawDetections = (detectionResults) => {\n",
        "        if (!canvasRef.current || !videoRef.current) return;\n",
        "\n",
        "        const canvas = canvasRef.current;\n",
        "        const ctx = canvas.getContext('2d');\n",
        "\n",
        "        // 캔버스 초기화\n",
        "        ctx.clearRect(0, 0, canvas.width, canvas.height);\n",
        "\n",
        "        // 감지된 객체 그리기\n",
        "        const scaleX = canvas.width / videoRef.current.videoWidth;\n",
        "        const scaleY = canvas.height / videoRef.current.videoHeight;\n",
        "\n",
        "        detectionResults.forEach(detection => {\n",
        "            const [x1, y1, x2, y2] = detection.bbox;\n",
        "            const scaledX1 = x1 * scaleX;\n",
        "            const scaledY1 = y1 * scaleY;\n",
        "            const scaledWidth = (x2 - x1) * scaleX;\n",
        "            const scaledHeight = (y2 - y1) * scaleY;\n",
        "\n",
        "            // 경계 상자 그리기\n",
        "            ctx.strokeStyle = '#00FF00';\n",
        "            ctx.lineWidth = 2;\n",
        "            ctx.strokeRect(scaledX1, scaledY1, scaledWidth, scaledHeight);\n",
        "\n",
        "            // 텍스트 배경 그리기\n",
        "            const label = `${detection.name} ${Math.round(detection.confidence * 100)}%`;\n",
        "            const textWidth = ctx.measureText(label).width;\n",
        "            ctx.fillStyle = 'rgba(0, 0, 0, 0.7)';\n",
        "            ctx.fillRect(scaledX1, scaledY1 - 20, textWidth + 10, 20);\n",
        "\n",
        "            // 텍스트 그리기\n",
        "            ctx.fillStyle = '#FFFFFF';\n",
        "            ctx.font = '16px Arial';\n",
        "            ctx.fillText(label, scaledX1 + 5, scaledY1 - 5);\n",
        "        });\n",
        "    };\n",
        "\n",
        "    const renderDetectionList = () => {\n",
        "        if (detections.length === 0) {\n",
        "            return <p>감지된 객체가 없습니다.</p>;\n",
        "        }\n",
        "\n",
        "        // 클래스별로 그룹화\n",
        "        const groupedDetections = {};\n",
        "        detections.forEach(detection => {\n",
        "            const name = detection.name;\n",
        "            if (!groupedDetections[name]) {\n",
        "                groupedDetections[name] = 0;\n",
        "            }\n",
        "            groupedDetections[name]++;\n",
        "        });\n",
        "\n",
        "        return (\n",
        "            <div>\n",
        "                <h5>감지된 객체</h5>\n",
        "                {Object.entries(groupedDetections).map(([name, count], index) => (\n",
        "                    <div key={index} className=\"detection-item\">\n",
        "                        <span>{name}</span>\n",
        "                        <span className=\"badge bg-primary\">{count}</span>\n",
        "                    </div>\n",
        "                ))}\n",
        "                <p className=\"mt-2\">총 {detections.length}개 객체 감지됨</p>\n",
        "            </div>\n",
        "        );\n",
        "    };\n",
        "\n",
        "    return (\n",
        "        <div className=\"container\">\n",
        "            <h1 className=\"text-center mb-4\">YOLOv8 객체 인식</h1>\n",
        "\n",
        "            {errorMessage && (\n",
        "                <div className=\"alert alert-danger\" role=\"alert\">\n",
        "                    {errorMessage}\n",
        "                </div>\n",
        "            )}\n",
        "\n",
        "            <div className=\"camera-container\">\n",
        "                <video ref={videoRef} id=\"videoElement\" autoPlay playsInline></video>\n",
        "                <canvas ref={canvasRef} id=\"canvasElement\"></canvas>\n",
        "            </div>\n",
        "\n",
        "            <div className=\"controls mt-3\">\n",
        "                <button\n",
        "                    className=\"btn btn-primary\"\n",
        "                    onClick={switchCamera}\n",
        "                >\n",
        "                    {cameraMode === 'environment' ? '전면 카메라로 전환' : '후면 카메라로 전환'}\n",
        "                </button>\n",
        "\n",
        "                <button\n",
        "                    className=\"btn btn-success\"\n",
        "                    onClick={detectObjects}\n",
        "                    disabled={isProcessing}\n",
        "                >\n",
        "                    객체 감지\n",
        "                    {isProcessing && (\n",
        "                        <span className=\"spinner-border spinner-border-sm ms-2\" role=\"status\" aria-hidden=\"true\"></span>\n",
        "                    )}\n",
        "                </button>\n",
        "            </div>\n",
        "\n",
        "            <div className=\"detection-list mt-3\">\n",
        "                {renderDetectionList()}\n",
        "            </div>\n",
        "        </div>\n",
        "    );\n",
        "};\n",
        "\n",
        "ReactDOM.render(<App />, document.getElementById('app'));"
      ],
      "metadata": {
        "colab": {
          "base_uri": "https://localhost:8080/"
        },
        "id": "9FLUjgx3zTY3",
        "outputId": "dc2093fb-6e23-4b6c-fadd-5c4366dac151"
      },
      "execution_count": 15,
      "outputs": [
        {
          "output_type": "stream",
          "name": "stdout",
          "text": [
            "Overwriting www/js/app.js\n"
          ]
        }
      ]
    },
    {
      "cell_type": "markdown",
      "source": [
        "# 7. 한 번에 위 서버를 실행하고 접근 URL을 여는 실행 스크립트를 작성합니다."
      ],
      "metadata": {
        "id": "snK_uw05eoRY"
      }
    },
    {
      "cell_type": "code",
      "source": [
        "%%writefile run_server.py\n",
        "import subprocess\n",
        "import time\n",
        "from pyngrok import ngrok\n",
        "\n",
        "# Flask 서버 시작\n",
        "server_process = subprocess.Popen([\"python\", \"app.py\"])\n",
        "print(\"Flask 서버가 시작되었습니다.\")\n",
        "\n",
        "# ngrok 터널 생성\n",
        "http_tunnel = ngrok.connect(3000)\n",
        "print(f\"ngrok 터널이 생성되었습니다: {http_tunnel.public_url}\")\n",
        "\n",
        "try:\n",
        "    # 앱이 계속 실행되도록 대기\n",
        "    while True:\n",
        "        time.sleep(1)\n",
        "except KeyboardInterrupt:\n",
        "    # 종료 시 프로세스 정리\n",
        "    server_process.terminate()\n",
        "    ngrok.kill()\n",
        "\n",
        "# 이 코드는 Colab이 계속 실행 중일 때만 작동합니다"
      ],
      "metadata": {
        "colab": {
          "base_uri": "https://localhost:8080/"
        },
        "id": "vfYAHZrnzKqq",
        "outputId": "a0ff4ff9-c3e7-422d-af4b-397b850d9502"
      },
      "execution_count": 16,
      "outputs": [
        {
          "output_type": "stream",
          "name": "stdout",
          "text": [
            "Writing run_server.py\n"
          ]
        }
      ]
    },
    {
      "cell_type": "markdown",
      "source": [
        "# 8. 프로그램에 필요한 디렉토리를 생성하고, 7단계에서 생성한 스크립트를 실행합니다. (서버를 실행)"
      ],
      "metadata": {
        "id": "R0Km6p7PezwY"
      }
    },
    {
      "cell_type": "code",
      "source": [
        "# 필요한 디렉토리 생성\n",
        "!mkdir -p uploads\n",
        "\n",
        "# 서버 실행\n",
        "!python run_server.py"
      ],
      "metadata": {
        "colab": {
          "base_uri": "https://localhost:8080/"
        },
        "id": "50XaijJ4zhef",
        "outputId": "0f95b6b8-eab2-4529-a299-1472b52630d2"
      },
      "execution_count": 17,
      "outputs": [
        {
          "output_type": "stream",
          "name": "stdout",
          "text": [
            "Flask 서버가 시작되었습니다.\n",
            "ngrok 터널이 생성되었습니다: https://4845-35-247-177-53.ngrok-free.app\n",
            " * Serving Flask app 'app'\n",
            " * Debug mode: on\n",
            "\u001b[31m\u001b[1mWARNING: This is a development server. Do not use it in a production deployment. Use a production WSGI server instead.\u001b[0m\n",
            " * Running on all addresses (0.0.0.0)\n",
            " * Running on http://127.0.0.1:3000\n",
            " * Running on http://172.28.0.12:3000\n",
            "\u001b[33mPress CTRL+C to quit\u001b[0m\n",
            " * Restarting with watchdog (inotify)\n",
            " * Debugger is active!\n",
            " * Debugger PIN: 347-788-323\n",
            "127.0.0.1 - - [18/May/2025 17:41:07] \"GET / HTTP/1.1\" 200 -\n",
            "127.0.0.1 - - [18/May/2025 17:41:08] \"\u001b[33mGET /favicon.ico HTTP/1.1\u001b[0m\" 404 -\n",
            "127.0.0.1 - - [18/May/2025 17:41:08] \"GET /js/app.js HTTP/1.1\" 200 -\n",
            "\n",
            "\n",
            "0: 480x640 1 person, 1 chair, 1 couch, 1 remote, 43.9ms\n",
            "Speed: 7.8ms preprocess, 43.9ms inference, 361.6ms postprocess per image at shape (1, 3, 480, 640)\n",
            "127.0.0.1 - - [18/May/2025 17:41:24] \"POST /api/detect HTTP/1.1\" 200 -\n",
            "0: 480x640 1 person, 1 chair, 1 couch, 1 remote, 55.0ms\n",
            "Speed: 11.2ms preprocess, 55.0ms inference, 2.1ms postprocess per image at shape (1, 3, 480, 640)\n",
            "127.0.0.1 - - [18/May/2025 17:41:24] \"POST /api/detect HTTP/1.1\" 200 -\n",
            "\n",
            "0: 480x640 1 person, 1 chair, 1 couch, 1 remote, 64.7ms\n",
            "Speed: 2.4ms preprocess, 64.7ms inference, 2.1ms postprocess per image at shape (1, 3, 480, 640)\n",
            "127.0.0.1 - - [18/May/2025 17:41:31] \"POST /api/detect HTTP/1.1\" 200 -\n",
            "\n",
            "0: 480x640 1 person, 1 chair, 1 couch, 39.4ms\n",
            "Speed: 3.7ms preprocess, 39.4ms inference, 1.6ms postprocess per image at shape (1, 3, 480, 640)\n",
            "127.0.0.1 - - [18/May/2025 17:41:41] \"POST /api/detect HTTP/1.1\" 200 -\n",
            "127.0.0.1 - - [18/May/2025 17:41:53] \"GET / HTTP/1.1\" 200 -\n",
            "127.0.0.1 - - [18/May/2025 17:41:54] \"GET / HTTP/1.1\" 200 -\n",
            "127.0.0.1 - - [18/May/2025 17:41:54] \"\u001b[33mGET /favicon.ico HTTP/1.1\u001b[0m\" 404 -\n",
            "127.0.0.1 - - [18/May/2025 17:41:55] \"\u001b[33mGET /favicon.ico HTTP/1.1\u001b[0m\" 404 -\n",
            "127.0.0.1 - - [18/May/2025 17:42:01] \"GET / HTTP/1.1\" 200 -\n",
            "127.0.0.1 - - [18/May/2025 17:42:02] \"GET /js/app.js HTTP/1.1\" 200 -\n",
            "\n",
            "0: 640x480 (no detections), 43.2ms\n",
            "Speed: 1.8ms preprocess, 43.2ms inference, 0.7ms postprocess per image at shape (1, 3, 640, 480)\n",
            "127.0.0.1 - - [18/May/2025 17:42:15] \"POST /api/detect HTTP/1.1\" 200 -\n",
            "\n",
            "0: 640x480 (no detections), 38.9ms\n",
            "Speed: 1.9ms preprocess, 38.9ms inference, 0.8ms postprocess per image at shape (1, 3, 640, 480)\n",
            "127.0.0.1 - - [18/May/2025 17:42:25] \"POST /api/detect HTTP/1.1\" 200 -\n",
            "\n",
            "0: 640x480 (no detections), 41.2ms\n",
            "Speed: 2.2ms preprocess, 41.2ms inference, 0.8ms postprocess per image at shape (1, 3, 640, 480)\n",
            "127.0.0.1 - - [18/May/2025 17:42:34] \"POST /api/detect HTTP/1.1\" 200 -\n",
            "\n",
            "0: 640x480 (no detections), 38.8ms\n",
            "Speed: 1.7ms preprocess, 38.8ms inference, 0.7ms postprocess per image at shape (1, 3, 640, 480)\n",
            "127.0.0.1 - - [18/May/2025 17:42:36] \"POST /api/detect HTTP/1.1\" 200 -\n",
            "\n",
            "0: 640x480 1 clock, 42.2ms\n",
            "Speed: 2.2ms preprocess, 42.2ms inference, 2.2ms postprocess per image at shape (1, 3, 640, 480)\n",
            "127.0.0.1 - - [18/May/2025 17:42:46] \"POST /api/detect HTTP/1.1\" 200 -\n",
            "\n",
            "0: 640x480 1 bed, 39.8ms\n",
            "Speed: 1.8ms preprocess, 39.8ms inference, 1.5ms postprocess per image at shape (1, 3, 640, 480)\n",
            "127.0.0.1 - - [18/May/2025 17:42:56] \"POST /api/detect HTTP/1.1\" 200 -\n",
            "\n",
            "0: 640x480 1 bottle, 1 remote, 64.6ms\n",
            "Speed: 2.3ms preprocess, 64.6ms inference, 2.4ms postprocess per image at shape (1, 3, 640, 480)\n",
            "127.0.0.1 - - [18/May/2025 17:43:06] \"POST /api/detect HTTP/1.1\" 200 -\n",
            "\n",
            "0: 640x480 1 cup, 1 sandwich, 1 dining table, 40.1ms\n",
            "Speed: 1.9ms preprocess, 40.1ms inference, 1.5ms postprocess per image at shape (1, 3, 640, 480)\n",
            "127.0.0.1 - - [18/May/2025 17:43:16] \"POST /api/detect HTTP/1.1\" 200 -\n",
            "\n",
            "0: 640x480 2 mouses, 1 keyboard, 47.0ms\n",
            "Speed: 2.0ms preprocess, 47.0ms inference, 1.6ms postprocess per image at shape (1, 3, 640, 480)\n",
            "127.0.0.1 - - [18/May/2025 17:43:26] \"POST /api/detect HTTP/1.1\" 200 -\n",
            "\n",
            "0: 640x480 1 mouse, 1 keyboard, 40.1ms\n",
            "Speed: 1.7ms preprocess, 40.1ms inference, 1.5ms postprocess per image at shape (1, 3, 640, 480)\n",
            "127.0.0.1 - - [18/May/2025 17:43:36] \"POST /api/detect HTTP/1.1\" 200 -\n",
            "\n",
            "0: 640x480 (no detections), 39.9ms\n",
            "Speed: 1.6ms preprocess, 39.9ms inference, 0.7ms postprocess per image at shape (1, 3, 640, 480)\n",
            "127.0.0.1 - - [18/May/2025 17:43:45] \"POST /api/detect HTTP/1.1\" 200 -\n",
            "Traceback (most recent call last):\n",
            "  File \"/content/run_server.py\", line 16, in <module>\n",
            "    time.sleep(1)\n",
            "KeyboardInterrupt\n",
            "\n",
            "During handling of the above exception, another exception occurred:\n",
            "\n",
            "Traceback (most recent call last):\n",
            "  File \"/content/run_server.py\", line 20, in <module>\n",
            "    ngrok.kill()\n",
            "  File \"/usr/local/lib/python3.11/dist-packages/pyngrok/ngrok.py\", line 494, in kill\n",
            "    process.kill_process(pyngrok_config.ngrok_path)\n",
            "  File \"/usr/local/lib/python3.11/dist-packages/pyngrok/process.py\", line 287, in kill_process\n",
            "    ngrok_process.proc.wait()\n",
            "  File \"/usr/lib/python3.11/subprocess.py\", line 1264, in wait\n",
            "    return self._wait(timeout=timeout)\n",
            "           ^^^^^^^^^^^^^^^^^^^^^^^^^^^\n",
            "  File \"/usr/lib/python3.11/subprocess.py\", line 2053, in _wait\n",
            "    (pid, sts) = self._try_wait(0)\n",
            "                 ^^^^^^^^^^^^^^^^^\n",
            "  File \"/usr/lib/python3.11/subprocess.py\", line 2011, in _try_wait\n",
            "    (pid, sts) = os.waitpid(self.pid, wait_flags)\n",
            "                 ^^^^^^^^^^^^^^^^^^^^^^^^^^^^^^^^\n",
            "KeyboardInterrupt\n",
            "^C\n"
          ]
        }
      ]
    },
    {
      "cell_type": "code",
      "source": [
        "!apt-get install tree"
      ],
      "metadata": {
        "colab": {
          "base_uri": "https://localhost:8080/"
        },
        "id": "iUwKFM_df3WG",
        "outputId": "0e89e48c-5244-4450-87a8-ad8e4855243c"
      },
      "execution_count": 18,
      "outputs": [
        {
          "output_type": "stream",
          "name": "stdout",
          "text": [
            "Reading package lists... Done\n",
            "Building dependency tree... Done\n",
            "Reading state information... Done\n",
            "The following NEW packages will be installed:\n",
            "  tree\n",
            "0 upgraded, 1 newly installed, 0 to remove and 34 not upgraded.\n",
            "Need to get 47.9 kB of archives.\n",
            "After this operation, 116 kB of additional disk space will be used.\n",
            "Get:1 http://archive.ubuntu.com/ubuntu jammy/universe amd64 tree amd64 2.0.2-1 [47.9 kB]\n",
            "Fetched 47.9 kB in 1s (54.5 kB/s)\n",
            "Selecting previously unselected package tree.\n",
            "(Reading database ... 126102 files and directories currently installed.)\n",
            "Preparing to unpack .../tree_2.0.2-1_amd64.deb ...\n",
            "Unpacking tree (2.0.2-1) ...\n",
            "Setting up tree (2.0.2-1) ...\n",
            "Processing triggers for man-db (2.10.2-1) ...\n"
          ]
        }
      ]
    },
    {
      "cell_type": "code",
      "source": [
        "!tree"
      ],
      "metadata": {
        "colab": {
          "base_uri": "https://localhost:8080/"
        },
        "id": "QqEGXA3S0ykI",
        "outputId": "29c1670a-1670-4a63-9316-9877aad52a09"
      },
      "execution_count": 19,
      "outputs": [
        {
          "output_type": "stream",
          "name": "stdout",
          "text": [
            "\u001b[01;34m.\u001b[0m\n",
            "├── \u001b[00mapp.py\u001b[0m\n",
            "├── \u001b[00mrun_server.py\u001b[0m\n",
            "├── \u001b[01;34msample_data\u001b[0m\n",
            "│   ├── \u001b[01;32manscombe.json\u001b[0m\n",
            "│   ├── \u001b[00mcalifornia_housing_test.csv\u001b[0m\n",
            "│   ├── \u001b[00mcalifornia_housing_train.csv\u001b[0m\n",
            "│   ├── \u001b[00mmnist_test.csv\u001b[0m\n",
            "│   ├── \u001b[00mmnist_train_small.csv\u001b[0m\n",
            "│   └── \u001b[01;32mREADME.md\u001b[0m\n",
            "├── \u001b[01;34muploads\u001b[0m\n",
            "│   ├── \u001b[01;35mimage_1747590075.jpg\u001b[0m\n",
            "│   ├── \u001b[01;35mimage_1747590081.jpg\u001b[0m\n",
            "│   ├── \u001b[01;35mimage_1747590091.jpg\u001b[0m\n",
            "│   ├── \u001b[01;35mimage_1747590101.jpg\u001b[0m\n",
            "│   ├── \u001b[01;35mimage_1747590135.jpg\u001b[0m\n",
            "│   ├── \u001b[01;35mimage_1747590145.jpg\u001b[0m\n",
            "│   ├── \u001b[01;35mimage_1747590154.jpg\u001b[0m\n",
            "│   ├── \u001b[01;35mimage_1747590156.jpg\u001b[0m\n",
            "│   ├── \u001b[01;35mimage_1747590166.jpg\u001b[0m\n",
            "│   ├── \u001b[01;35mimage_1747590176.jpg\u001b[0m\n",
            "│   ├── \u001b[01;35mimage_1747590186.jpg\u001b[0m\n",
            "│   ├── \u001b[01;35mimage_1747590196.jpg\u001b[0m\n",
            "│   ├── \u001b[01;35mimage_1747590206.jpg\u001b[0m\n",
            "│   ├── \u001b[01;35mimage_1747590216.jpg\u001b[0m\n",
            "│   └── \u001b[01;35mimage_1747590225.jpg\u001b[0m\n",
            "├── \u001b[01;34mwww\u001b[0m\n",
            "│   ├── \u001b[00mindex.html\u001b[0m\n",
            "│   └── \u001b[01;34mjs\u001b[0m\n",
            "│       └── \u001b[00mapp.js\u001b[0m\n",
            "└── \u001b[00myolov8n.pt\u001b[0m\n",
            "\n",
            "4 directories, 26 files\n"
          ]
        }
      ]
    }
  ]
}